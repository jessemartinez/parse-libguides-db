{
 "cells": [
  {
   "cell_type": "code",
   "execution_count": 1,
   "metadata": {
    "collapsed": true
   },
   "outputs": [],
   "source": [
    "import os\n",
    "import time\n",
    "import json\n",
    "import re\n",
    "import pprint\n",
    "import csv\n",
    "import time\n",
    "import sys\n",
    "import xml.etree.ElementTree as ET\n",
    "from pathlib import Path"
   ]
  },
  {
   "cell_type": "code",
   "execution_count": 2,
   "metadata": {
    "collapsed": true
   },
   "outputs": [],
   "source": [
    "# regex objects\n",
    "proxy_re = re.compile('proxy\\.bc\\.edu\\/login\\?url=', re.IGNORECASE)\n",
    "remove_protocol_re = re.compile('https?:\\/\\/', re.IGNORECASE)\n",
    "domain_name_re = re.compile('(www\\.)?(?P<dn>[a-zA-Z0-9.\\-_]*).*', re.IGNORECASE)"
   ]
  },
  {
   "cell_type": "code",
   "execution_count": 3,
   "metadata": {
    "collapsed": true
   },
   "outputs": [],
   "source": [
    "# files to be read by this script\n",
    "db_dump_file = 'export_1521748808.xml'\n",
    "databases_file_name = 'all_databases.txt'\n",
    "databases_domain_names_file_name = 'all_databases_domain_names.txt'"
   ]
  },
  {
   "cell_type": "code",
   "execution_count": 4,
   "metadata": {
    "collapsed": true
   },
   "outputs": [],
   "source": [
    "# load xml dump and get root element\n",
    "\n",
    "# get filename without extension\n",
    "db_dump_file_no_extention = re.sub('\\.xml', '', db_dump_file)\n",
    "\n",
    "my_dump_file = Path(db_dump_file)\n",
    "if my_dump_file.is_file():\n",
    "    tree = ET.parse(db_dump_file)\n",
    "    root = tree.getroot()\n",
    "else:\n",
    "    sys.exit(\"Can't find %s\" % db_dump_file)"
   ]
  },
  {
   "cell_type": "code",
   "execution_count": 5,
   "metadata": {},
   "outputs": [
    {
     "data": {
      "text/plain": [
       "<Element 'libguides' at 0x10460f3b8>"
      ]
     },
     "execution_count": 5,
     "metadata": {},
     "output_type": "execute_result"
    }
   ],
   "source": [
    "# test that import worked\n",
    "root"
   ]
  },
  {
   "cell_type": "code",
   "execution_count": 6,
   "metadata": {},
   "outputs": [
    {
     "data": {
      "text/plain": [
       "99"
      ]
     },
     "execution_count": 6,
     "metadata": {},
     "output_type": "execute_result"
    }
   ],
   "source": [
    "# get total number of accounts\n",
    "total_accounts = len(root.findall('./accounts/account'))\n",
    "total_accounts"
   ]
  },
  {
   "cell_type": "code",
   "execution_count": 7,
   "metadata": {},
   "outputs": [
    {
     "data": {
      "text/plain": [
       "815"
      ]
     },
     "execution_count": 7,
     "metadata": {},
     "output_type": "execute_result"
    }
   ],
   "source": [
    "# get total number of guides\n",
    "total_guides = len(root.findall('./guides/guide'))\n",
    "total_guides"
   ]
  },
  {
   "cell_type": "code",
   "execution_count": 8,
   "metadata": {},
   "outputs": [
    {
     "data": {
      "text/plain": [
       "4655"
      ]
     },
     "execution_count": 8,
     "metadata": {},
     "output_type": "execute_result"
    }
   ],
   "source": [
    "# get total number of pages\n",
    "total_pages = len(root.findall('.//pages/page'))\n",
    "total_pages"
   ]
  },
  {
   "cell_type": "code",
   "execution_count": 9,
   "metadata": {},
   "outputs": [
    {
     "data": {
      "text/plain": [
       "13361"
      ]
     },
     "execution_count": 9,
     "metadata": {},
     "output_type": "execute_result"
    }
   ],
   "source": [
    "# get total number of boxes\n",
    "total_boxes = len(root.findall('.//boxes/box'))\n",
    "total_boxes"
   ]
  },
  {
   "cell_type": "code",
   "execution_count": 10,
   "metadata": {},
   "outputs": [
    {
     "data": {
      "text/plain": [
       "29980"
      ]
     },
     "execution_count": 10,
     "metadata": {},
     "output_type": "execute_result"
    }
   ],
   "source": [
    "# get total number of assets\n",
    "total_assets = len(root.findall('.//assets/asset'))\n",
    "total_assets"
   ]
  },
  {
   "cell_type": "code",
   "execution_count": 11,
   "metadata": {},
   "outputs": [
    {
     "data": {
      "text/plain": [
       "14656"
      ]
     },
     "execution_count": 11,
     "metadata": {},
     "output_type": "execute_result"
    }
   ],
   "source": [
    "# get total number of link assets\n",
    "link_count = 0\n",
    "for link in root.findall('.//assets/asset'):\n",
    "    if link.findtext('type') == \"Link\":\n",
    "        link_count += 1\n",
    "        \n",
    "link_count"
   ]
  },
  {
   "cell_type": "code",
   "execution_count": 12,
   "metadata": {},
   "outputs": [
    {
     "data": {
      "text/plain": [
       "99"
      ]
     },
     "execution_count": 12,
     "metadata": {},
     "output_type": "execute_result"
    }
   ],
   "source": [
    "# get all guide authors and add them to accounts_dict dictionary\n",
    "accounts_count = 0\n",
    "accounts_dict = {}\n",
    "for account in root.findall('./accounts/account'):\n",
    "    acct_id = account.findtext('id')\n",
    "    acct_fname = account.findtext('first_name')\n",
    "    acct_lname = account.findtext('last_name')\n",
    "    accounts_dict[acct_id] = \"%s %s\" % (acct_fname, acct_lname)\n",
    "    accounts_count += 1\n",
    "    \n",
    "accounts_count"
   ]
  },
  {
   "cell_type": "code",
   "execution_count": 22,
   "metadata": {},
   "outputs": [
    {
     "data": {
      "text/plain": [
       "'Leslie Homzie'"
      ]
     },
     "execution_count": 22,
     "metadata": {},
     "output_type": "execute_result"
    }
   ],
   "source": [
    "# test output\n",
    "accounts_dict['10678']"
   ]
  },
  {
   "cell_type": "code",
   "execution_count": 33,
   "metadata": {},
   "outputs": [],
   "source": [
    "# read in list of databases\n",
    "databases_file_name = 'all_databases.txt'\n",
    "my_db_file = Path(databases_file_name)\n",
    "db_names_set = []\n",
    "if my_db_file.is_file():\n",
    "    with open(my_db_file, 'r') as f:\n",
    "        data = json.load(f)\n",
    "\n",
    "    # pull out key 'databases' from file\n",
    "    db_names_set = data['databases']\n",
    "else:\n",
    "    sys.exit(\"Can't find %s\" % file_name)"
   ]
  },
  {
   "cell_type": "code",
   "execution_count": 34,
   "metadata": {},
   "outputs": [
    {
     "data": {
      "text/plain": [
       "737"
      ]
     },
     "execution_count": 34,
     "metadata": {},
     "output_type": "execute_result"
    }
   ],
   "source": [
    "len(db_names_set)"
   ]
  },
  {
   "cell_type": "code",
   "execution_count": 35,
   "metadata": {
    "collapsed": true
   },
   "outputs": [],
   "source": [
    "# read in list of database domain names\n",
    "my_db_file = Path(databases_domain_names_file_name)\n",
    "db_domain_names_set = []\n",
    "if my_db_file.is_file():\n",
    "    with open(my_db_file, 'r') as f:\n",
    "        data = json.load(f)\n",
    "\n",
    "    # pull out key 'databases' from file\n",
    "    db_domain_names_set = data['databases']\n",
    "else:\n",
    "    sys.exit(\"Can't find %s\" % file_name)"
   ]
  },
  {
   "cell_type": "code",
   "execution_count": 36,
   "metadata": {},
   "outputs": [
    {
     "data": {
      "text/plain": [
       "336"
      ]
     },
     "execution_count": 36,
     "metadata": {},
     "output_type": "execute_result"
    }
   ],
   "source": [
    "len(db_domain_names_set)"
   ]
  },
  {
   "cell_type": "code",
   "execution_count": 37,
   "metadata": {},
   "outputs": [],
   "source": [
    "# parse guides\n",
    "guides_parsed_count = 0\n",
    "pages_parsed_count = 0\n",
    "boxes_parsed_count = 0\n",
    "assets_parsed_count = 0\n",
    "link_assets_parsed_count = 0\n",
    "\n",
    "proxied_asset_count = 0\n",
    "proxied_assets_list = []\n",
    "\n",
    "suspicious_asset_count = 0\n",
    "suspicious_asset_list = []\n",
    "\n",
    "# parse guides\n",
    "for guide in root.findall('./guides/guide'):\n",
    "    guide_id = guide.findtext('id')\n",
    "    guide_name = guide.findtext('name')\n",
    "    guide_url = guide.findtext('url')\n",
    "    guide_owner = guide.findtext('owner/id')\n",
    "    guide_status = guide.findtext('status')\n",
    "    \n",
    "    # parse pages in a guide\n",
    "    local_pages_count = 0\n",
    "    pages_dict = {}\n",
    "    for page in guide.findall('./pages/page'):\n",
    "        page_id = page.findtext('id')\n",
    "        page_name = page.findtext('name')\n",
    "        page_url = page.findtext('url')\n",
    "        \n",
    "        # parse boxes in a page\n",
    "        local_boxes_count = 0\n",
    "        boxes_dict = {}\n",
    "        for box in page.findall('./boxes/box'):\n",
    "            box_id = box.findtext('id')\n",
    "            box_name = box.findtext('name')\n",
    "            \n",
    "            # construct box_url\n",
    "            # box_url = \"%s#s-lg-box-%s\" % (page_url, box_id)\n",
    "            box_url = 'https://bc.libapps.com/libguides/admin_c.php?g=%s&p=%s#s-lg-box-%s' %(guide_id, page_id, box_id)\n",
    "            \n",
    "            # parse assets in a box\n",
    "            local_assets_count = 0\n",
    "            assets_dict = {}\n",
    "            for asset in box.findall('./assets/asset'):\n",
    "                asset_id = asset.findtext('id')\n",
    "                asset_name = asset.findtext('name')\n",
    "                asset_type = asset.findtext('type')\n",
    "                \n",
    "                # check if this asset is of type \"Link\"\n",
    "                if asset_type == \"Link\":\n",
    "                    asset_url_raw = asset.findtext('url')\n",
    "                    \n",
    "                    if not asset_url_raw:\n",
    "                        # TODO log error here\n",
    "                        continue\n",
    "                    \n",
    "                    # shift to lowercase \n",
    "                    asset_url_lower = asset_url_raw.lower()\n",
    "                    \n",
    "                    # strip out protocol (http:// | https://)\n",
    "                    asset_url_clean = re.sub(remove_protocol_re, \"\", asset_url_lower)\n",
    "                    \n",
    "                    # strip out trailing forward slash\n",
    "                    asset_url_clean = asset_url_clean.rstrip('/')\n",
    "                    \n",
    "                    # first, check if this has the proxy prefix\n",
    "                    has_proxy = proxy_re.match(asset_url_clean)\n",
    "                    if has_proxy:\n",
    "                        asset_url = re.sub(proxy_re, '', asset_url_clean)\n",
    "                        \n",
    "                        # add to proxied_assets_list\n",
    "                        proxied_assets_list.append(\n",
    "                            { \n",
    "                                \"guide_owner\": accounts_dict[guide_owner],\n",
    "                                \"asset_name\": asset_name,\n",
    "                                \"reason\": \"uses proxy prefix\",\n",
    "                                \"box_url\": box_url,\n",
    "                                \"guide_status\": guide_status,\n",
    "                                \"guide_id\": guide_id,\n",
    "                                \"guide_name\": guide_name,\n",
    "                                # \"guide_url\": guide_url,\n",
    "                                # \"page_id\": page_id,\n",
    "                                \"page_name\": page_name,\n",
    "                                # \"page_url\": page_url,\n",
    "                                # \"box_id\": box_id,\n",
    "                                \"box_name\": box_name,\n",
    "                                # \"asset_id\": asset_id,\n",
    "                                \"asset_url_raw\": asset_url_raw,\n",
    "                                \"matches_on_known_db_name\": asset_url\n",
    "                            }\n",
    "                        )\n",
    "                        proxied_asset_count += 1\n",
    "                    else:\n",
    "                        asset_url = asset_url_clean\n",
    "                        \n",
    "                    \n",
    "                    # next, check if this url matches the full database url\n",
    "                    # if not, then check to see if the asset_url matches a db domain name\n",
    "                    if asset_url in db_names_set:\n",
    "                        suspicious_asset_list.append(\n",
    "                            {\n",
    "                                \n",
    "                                \"guide_owner\": accounts_dict[guide_owner],\n",
    "                                \"asset_name\": asset_name,\n",
    "                                \"reason\": \"matches full database url\",\n",
    "                                \"box_url\": box_url,\n",
    "                                \"guide_status\": guide_status,\n",
    "                                \"guide_id\": guide_id,\n",
    "                                \"guide_name\": guide_name,\n",
    "                                # \"guide_url\": guide_url,\n",
    "                                # \"page_id\": page_id,\n",
    "                                \"page_name\": page_name,\n",
    "                                # \"page_url\": page_url,\n",
    "                                # \"box_id\": box_id,\n",
    "                                \"box_name\": box_name,\n",
    "                                # \"asset_id\": asset_id,\n",
    "                                \"asset_url_raw\": asset_url_raw,\n",
    "                                \"matches_on_known_db_name\": asset_url\n",
    "                            }\n",
    "                        )\n",
    "                        suspicious_asset_count += 1\n",
    "                    else: \n",
    "                        # extract out the domain name from the asset_url variable\n",
    "                        get_dn = domain_name_re.search(asset_url)\n",
    "                        if get_dn:\n",
    "                            matched_dn = get_dn.group(\"dn\")\n",
    "                            if matched_dn:\n",
    "                                asset_url_dn = matched_dn\n",
    "                            else:\n",
    "                                # TODO log an error here\n",
    "                                continue\n",
    "\n",
    "                        # match asset_url_dn to known database dn's\n",
    "                        if asset_url_dn in db_domain_names_set:\n",
    "                            # add to suspicious_asset_list\n",
    "                            suspicious_asset_list.append(\n",
    "                                {\n",
    "                                    \"guide_owner\": accounts_dict[guide_owner],\n",
    "                                    \"asset_name\": asset_name,\n",
    "                                    \"reason\": \"matches a database domain name\",\n",
    "                                    \"box_url\": box_url,\n",
    "                                    \"guide_status\": guide_status,\n",
    "                                    \"guide_id\": guide_id,\n",
    "                                    \"guide_name\": guide_name,\n",
    "                                    # \"guide_url\": guide_url,\n",
    "                                    # \"page_id\": page_id,\n",
    "                                    \"page_name\": page_name,\n",
    "                                    # \"page_url\": page_url,\n",
    "                                    # \"box_id\": box_id,\n",
    "                                    \"box_name\": box_name,\n",
    "                                    # \"asset_id\": asset_id,\n",
    "                                    \"asset_url_raw\": asset_url_raw,\n",
    "                                    \"matches_on_known_db_name\": asset_url_dn\n",
    "                                }\n",
    "                            )\n",
    "                            suspicious_asset_count += 1\n",
    "\n",
    "                    link_assets_parsed_count += 1\n",
    "                    # END check if this asset is of type \"Link\"\n",
    "                \n",
    "                local_assets_count += 1\n",
    "                assets_parsed_count += 1\n",
    "                # END parse assets in a box\n",
    "            \n",
    "            local_boxes_count += 1\n",
    "            boxes_parsed_count += 1\n",
    "            # END parse boxes in a page\n",
    "            \n",
    "        local_pages_count += 1\n",
    "        pages_parsed_count += 1\n",
    "        # END parse pages in a guide\n",
    "        \n",
    "    guides_parsed_count += 1\n",
    "    # END parse guides"
   ]
  },
  {
   "cell_type": "code",
   "execution_count": 38,
   "metadata": {},
   "outputs": [
    {
     "name": "stdout",
     "output_type": "stream",
     "text": [
      "guides_parsed_count: 815\n",
      "pages_parsed_count: 4655\n",
      "boxes_parsed_count: 13361\n",
      "assets_parsed_count: 29394\n",
      "link_assets_parsed_count: 14070\n",
      "proxied_asset_count: 1014\n",
      "suspicious_asset_count: 2091\n"
     ]
    }
   ],
   "source": [
    "print(\"guides_parsed_count: %s\" % guides_parsed_count)\n",
    "print(\"pages_parsed_count: %s\" % pages_parsed_count)\n",
    "print(\"boxes_parsed_count: %s\" % boxes_parsed_count)\n",
    "print(\"assets_parsed_count: %s\" % assets_parsed_count)\n",
    "print(\"link_assets_parsed_count: %s\" % link_assets_parsed_count)\n",
    "print(\"proxied_asset_count: %s\" % proxied_asset_count)\n",
    "print(\"suspicious_asset_count: %s\" % suspicious_asset_count)"
   ]
  },
  {
   "cell_type": "code",
   "execution_count": 39,
   "metadata": {
    "collapsed": true
   },
   "outputs": [],
   "source": [
    "#pprint.pprint(proxied_assets_list)"
   ]
  },
  {
   "cell_type": "code",
   "execution_count": 40,
   "metadata": {
    "collapsed": true
   },
   "outputs": [],
   "source": [
    "#pprint.pprint(suspicious_asset_list)"
   ]
  },
  {
   "cell_type": "code",
   "execution_count": 41,
   "metadata": {
    "collapsed": true
   },
   "outputs": [],
   "source": [
    "# convert suspicious_asset_list to a csv file\n",
    "# https://stackoverflow.com/questions/3086973/how-do-i-convert-this-list-of-dictionaries-to-a-csv-file\n",
    "fieldnames = [\n",
    "    \"guide_id\", \"guide_name\", \"guide_url\", \"guide_owner\", \n",
    "    \"page_id\", \"page_name\", \"page_url\", \n",
    "    \"box_id\", \"box_name\", \"box_url\", \n",
    "    \"asset_id\", \"asset_name\", \"asset_url_raw\", \"asset_url_to_match\"\n",
    "]\n",
    "timestr = time.strftime(\"%Y%m%d-%H%M%S\")\n",
    "csv_filename = 'suspicious_assets-%s-%s.csv' % (db_dump_file_no_extention, timestr)\n",
    "keys = suspicious_asset_list[0].keys()\n",
    "with open(csv_filename, 'w') as output_file:\n",
    "    dict_writer = csv.DictWriter(output_file, keys)\n",
    "    dict_writer.writeheader()\n",
    "    dict_writer.writerows(suspicious_asset_list)"
   ]
  },
  {
   "cell_type": "raw",
   "metadata": {},
   "source": []
  },
  {
   "cell_type": "code",
   "execution_count": null,
   "metadata": {
    "collapsed": true
   },
   "outputs": [],
   "source": []
  }
 ],
 "metadata": {
  "kernelspec": {
   "display_name": "Python 3",
   "language": "python",
   "name": "python3"
  },
  "language_info": {
   "codemirror_mode": {
    "name": "ipython",
    "version": 3
   },
   "file_extension": ".py",
   "mimetype": "text/x-python",
   "name": "python",
   "nbconvert_exporter": "python",
   "pygments_lexer": "ipython3",
   "version": "3.6.2"
  }
 },
 "nbformat": 4,
 "nbformat_minor": 2
}
