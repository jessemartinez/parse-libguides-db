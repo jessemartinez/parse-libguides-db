{
 "cells": [
  {
   "cell_type": "code",
   "execution_count": 185,
   "metadata": {},
   "outputs": [],
   "source": [
    "import os\n",
    "import time\n",
    "import re\n",
    "import pprint\n",
    "import csv\n",
    "import time\n",
    "import copy"
   ]
  },
  {
   "cell_type": "code",
   "execution_count": 186,
   "metadata": {},
   "outputs": [],
   "source": [
    "# regex objects\n",
    "proxy_re = re.compile('proxy\\.bc\\.edu\\/login\\?url=', re.IGNORECASE)\n",
    "remove_protocol_re = re.compile('https?:\\/\\/', re.IGNORECASE)\n",
    "domain_name_re = re.compile('(www\\.)?(?P<dn>[a-zA-Z0-9.\\-_]*).*', re.IGNORECASE)"
   ]
  },
  {
   "cell_type": "code",
   "execution_count": 209,
   "metadata": {},
   "outputs": [],
   "source": [
    "# 0   1     2            3    4\n",
    "# ID, Name, Description, URL, Created,\n",
    "#\n",
    "# 5       6      7                      8          9 \n",
    "# Vendor, Types, Alt. Names / Keywords, Use Proxy, Friendly URL,\n",
    "#\n",
    "# 10        11         12                13   14\n",
    "# Subjects, More Info, Librarian Review, New, Trial, \n",
    "#\n",
    "# 15       16              17      18             19\n",
    "# Popular, Permitted Uses, Hidden, Internal Note, Owner\n",
    "\n",
    "db_url_raw = []\n",
    "db_url_dn_raw = []\n",
    "with open('az_database_list.csv', newline='') as csvfile:\n",
    "    db_reader = csv.reader(csvfile, delimiter=',', quotechar='\"')\n",
    "    \n",
    "    # skip the header\n",
    "    next(db_reader, None)  # skip the headers\n",
    "    \n",
    "    for row in db_reader:\n",
    "        db_url = row[3]\n",
    "        db_uses_proxy = row[8]\n",
    "        \n",
    "        db_url_lower = db_url.lower()\n",
    "        \n",
    "        # check if db uses proxy -- ignore if db_uses_proxy == \"No\"\n",
    "        if db_uses_proxy == \"Yes\":\n",
    "            # remove url protocol\n",
    "            db_url_clean = re.sub(remove_protocol_re, \"\", db_url_lower)\n",
    "\n",
    "            # strip out trailing forward slash\n",
    "            db_url_clean = db_url_clean.rstrip('/')\n",
    "    \n",
    "            db_url_raw.append(db_url_clean)\n",
    "\n",
    "            # for db_url_dn_raw, ignore any urls that contain 'bc.edu' and 'wrds-web.wharton.upenn.edu'\n",
    "            if \"bc.edu\" not in db_url_lower and \"wrds-web.wharton.upenn.edu\" not in db_url_lower:\n",
    "                db_url_dn_raw.append(db_url_clean)"
   ]
  },
  {
   "cell_type": "code",
   "execution_count": 210,
   "metadata": {},
   "outputs": [
    {
     "data": {
      "text/plain": [
       "753"
      ]
     },
     "execution_count": 210,
     "metadata": {},
     "output_type": "execute_result"
    }
   ],
   "source": [
    "len(db_url_raw)"
   ]
  },
  {
   "cell_type": "code",
   "execution_count": 211,
   "metadata": {},
   "outputs": [
    {
     "data": {
      "text/plain": [
       "747"
      ]
     },
     "execution_count": 211,
     "metadata": {},
     "output_type": "execute_result"
    }
   ],
   "source": [
    "len(db_url_dn_raw)"
   ]
  },
  {
   "cell_type": "code",
   "execution_count": 223,
   "metadata": {},
   "outputs": [],
   "source": [
    "#db_url_raw"
   ]
  },
  {
   "cell_type": "code",
   "execution_count": 224,
   "metadata": {
    "scrolled": true
   },
   "outputs": [],
   "source": [
    "#db_url_dn_raw"
   ]
  },
  {
   "cell_type": "code",
   "execution_count": 192,
   "metadata": {},
   "outputs": [],
   "source": []
  },
  {
   "cell_type": "code",
   "execution_count": 214,
   "metadata": {},
   "outputs": [
    {
     "data": {
      "text/plain": [
       "735"
      ]
     },
     "execution_count": 214,
     "metadata": {},
     "output_type": "execute_result"
    }
   ],
   "source": [
    "# remove dupes from db_url_raw\n",
    "db_url_no_dupes = list(set(db_url_raw))\n",
    "len(db_url_no_dupes)"
   ]
  },
  {
   "cell_type": "code",
   "execution_count": 215,
   "metadata": {},
   "outputs": [],
   "source": [
    "# sort db_url_no_dupes\n",
    "db_url_no_dupes.sort()"
   ]
  },
  {
   "cell_type": "code",
   "execution_count": 216,
   "metadata": {},
   "outputs": [
    {
     "data": {
      "text/plain": [
       "735"
      ]
     },
     "execution_count": 216,
     "metadata": {},
     "output_type": "execute_result"
    }
   ],
   "source": [
    "len(db_url_no_dupes)"
   ]
  },
  {
   "cell_type": "code",
   "execution_count": 225,
   "metadata": {},
   "outputs": [],
   "source": [
    "#db_url_no_dupes"
   ]
  },
  {
   "cell_type": "code",
   "execution_count": null,
   "metadata": {},
   "outputs": [],
   "source": []
  },
  {
   "cell_type": "code",
   "execution_count": 219,
   "metadata": {},
   "outputs": [],
   "source": [
    "# parse out the domain name for every url in db_url_dn_raw\n",
    "db_url_dn = []\n",
    "for url in db_url_dn_raw:\n",
    "    get_dn = domain_name_re.search(url)\n",
    "    if get_dn:\n",
    "        matched_dn = get_dn.group(\"dn\")\n",
    "        if matched_dn:\n",
    "            db_url_dn.append(matched_dn)\n",
    "        else:\n",
    "            # TODO log an error here\n",
    "            continue"
   ]
  },
  {
   "cell_type": "code",
   "execution_count": 220,
   "metadata": {},
   "outputs": [
    {
     "data": {
      "text/plain": [
       "335"
      ]
     },
     "execution_count": 220,
     "metadata": {},
     "output_type": "execute_result"
    }
   ],
   "source": [
    "# remove dupes from db_url_dn_raw\n",
    "db_url_dn_no_dupes = list(set(db_url_dn))\n",
    "len(db_url_dn_no_dupes)"
   ]
  },
  {
   "cell_type": "code",
   "execution_count": 221,
   "metadata": {},
   "outputs": [],
   "source": [
    "# sort list\n",
    "db_url_dn_no_dupes.sort()"
   ]
  },
  {
   "cell_type": "code",
   "execution_count": 226,
   "metadata": {},
   "outputs": [],
   "source": [
    "#db_url_dn_no_dupes"
   ]
  },
  {
   "cell_type": "code",
   "execution_count": null,
   "metadata": {},
   "outputs": [],
   "source": []
  }
 ],
 "metadata": {
  "kernelspec": {
   "display_name": "Python 3",
   "language": "python",
   "name": "python3"
  },
  "language_info": {
   "codemirror_mode": {
    "name": "ipython",
    "version": 3
   },
   "file_extension": ".py",
   "mimetype": "text/x-python",
   "name": "python",
   "nbconvert_exporter": "python",
   "pygments_lexer": "ipython3",
   "version": "3.6.4"
  }
 },
 "nbformat": 4,
 "nbformat_minor": 2
}
